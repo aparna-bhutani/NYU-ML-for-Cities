{
 "cells": [
  {
   "cell_type": "markdown",
   "metadata": {},
   "source": [
    "Total points for this HW: 100.\n",
    "Due date: 02/20/2020 (at the start of class)\n",
    "\n",
    "Please note: Copying and pasting other people's work is absolutely prohibited.  Any such cases will be reported to CUSP's education team and severely punished. Discussion is encouraged, and feel free to exchange ideas with your classmates, but please write your own code and do your own work."
   ]
  },
  {
   "cell_type": "markdown",
   "metadata": {},
   "source": [
    "### Question 1: Accuracy and interpretability (10 pts)\n",
    "\n",
    "a) Describe a real-world prediction problem using urban data for which _interpretability_ of your models and results is essential, and for which it might be preferable to use decision trees rather than random forests.  Argue why this is the case. (3 pts)"
   ]
  },
  {
   "cell_type": "markdown",
   "metadata": {},
   "source": [
    "We use decision trees when we want our model to be interpretable where we know which variables and what values is used to split the data and predict outcome. In decision trees there can be a chance of overfitting. One example of real world urban problem using decision trees is prediction of crime. Here we want a clear picture and a set of decision steps such as considering only relevant areas where crime occurs. Hence, we use decision trees."
   ]
  },
  {
   "cell_type": "markdown",
   "metadata": {},
   "source": [
    "b) Describe a real-world prediction problem using urban data for which _accuracy_ is paramount and interpretability may be less important, and for which it might be preferable to use random forests rather than decision trees.  Argue why this is the case. (3 pts)"
   ]
  },
  {
   "cell_type": "markdown",
   "metadata": {},
   "source": [
    "We use random forest when we care more about accuracy than interpretability. A random forest is like a black box where we specify the number of trees we want in our forest and maximum number of features to be used in each tree. We cannot control which feature is part of which tree and the randomness. One example of real life urban problem is prediction of incidences of novel corona virus in US cities where accuracy is crucial for public health authorities. The features which can be considered here are numbers of confirmed cases, total international population in city, population density, travelled to china. "
   ]
  },
  {
   "cell_type": "markdown",
   "metadata": {},
   "source": [
    "c) Let's imagine that you want to try to get the best of both worlds (accuracy _and_ interpretability).  So you decide to start by learning a random forest classifier.  Describe at least one way of getting some interpretability out of the model by post-processing.  You could either pick a method from the literature (e.g., Domingos's work on combining multiple models or some method of computing variable importance), or come up with your own approach (doesn't have to be ground-breaking, but feel free to be creative!) (4 pts)"
   ]
  },
  {
   "cell_type": "markdown",
   "metadata": {},
   "source": [
    "We can post process the model to get interpretability by using methods to calculate variable importance. One way is accuracy based importance where we see the decrease in accuracy score when we exclude a feature. Another method is Gini score. In this we calculate Gini impurity which is used to decide which variable to split at each node and can be used to  to measure  feature relevance"
   ]
  },
  {
   "cell_type": "markdown",
   "metadata": {},
   "source": [
    "###  Question 2: Build a decision tree for classification, step by step, following the lecture notes. Note that the dataset has been slightly modified, so you will get a different tree than the one shown in the lecture notes.  (30 points)"
   ]
  },
  {
   "cell_type": "code",
   "execution_count": 39,
   "metadata": {},
   "outputs": [],
   "source": [
    "import pandas as pd\n",
    "import numpy as np"
   ]
  },
  {
   "cell_type": "code",
   "execution_count": 40,
   "metadata": {},
   "outputs": [
    {
     "data": {
      "text/html": [
       "<div>\n",
       "<style scoped>\n",
       "    .dataframe tbody tr th:only-of-type {\n",
       "        vertical-align: middle;\n",
       "    }\n",
       "\n",
       "    .dataframe tbody tr th {\n",
       "        vertical-align: top;\n",
       "    }\n",
       "\n",
       "    .dataframe thead th {\n",
       "        text-align: right;\n",
       "    }\n",
       "</style>\n",
       "<table border=\"1\" class=\"dataframe\">\n",
       "  <thead>\n",
       "    <tr style=\"text-align: right;\">\n",
       "      <th></th>\n",
       "      <th>MPG</th>\n",
       "      <th>cylinders</th>\n",
       "      <th>HP</th>\n",
       "      <th>weight</th>\n",
       "    </tr>\n",
       "  </thead>\n",
       "  <tbody>\n",
       "    <tr>\n",
       "      <th>0</th>\n",
       "      <td>good</td>\n",
       "      <td>4</td>\n",
       "      <td>75</td>\n",
       "      <td>light</td>\n",
       "    </tr>\n",
       "    <tr>\n",
       "      <th>1</th>\n",
       "      <td>bad</td>\n",
       "      <td>6</td>\n",
       "      <td>90</td>\n",
       "      <td>medium</td>\n",
       "    </tr>\n",
       "    <tr>\n",
       "      <th>2</th>\n",
       "      <td>bad</td>\n",
       "      <td>4</td>\n",
       "      <td>110</td>\n",
       "      <td>medium</td>\n",
       "    </tr>\n",
       "    <tr>\n",
       "      <th>3</th>\n",
       "      <td>bad</td>\n",
       "      <td>8</td>\n",
       "      <td>175</td>\n",
       "      <td>weighty</td>\n",
       "    </tr>\n",
       "    <tr>\n",
       "      <th>4</th>\n",
       "      <td>bad</td>\n",
       "      <td>6</td>\n",
       "      <td>95</td>\n",
       "      <td>medium</td>\n",
       "    </tr>\n",
       "    <tr>\n",
       "      <th>5</th>\n",
       "      <td>bad</td>\n",
       "      <td>4</td>\n",
       "      <td>94</td>\n",
       "      <td>light</td>\n",
       "    </tr>\n",
       "    <tr>\n",
       "      <th>6</th>\n",
       "      <td>bad</td>\n",
       "      <td>4</td>\n",
       "      <td>95</td>\n",
       "      <td>light</td>\n",
       "    </tr>\n",
       "    <tr>\n",
       "      <th>7</th>\n",
       "      <td>bad</td>\n",
       "      <td>8</td>\n",
       "      <td>139</td>\n",
       "      <td>weighty</td>\n",
       "    </tr>\n",
       "    <tr>\n",
       "      <th>8</th>\n",
       "      <td>bad</td>\n",
       "      <td>8</td>\n",
       "      <td>190</td>\n",
       "      <td>weighty</td>\n",
       "    </tr>\n",
       "    <tr>\n",
       "      <th>9</th>\n",
       "      <td>bad</td>\n",
       "      <td>8</td>\n",
       "      <td>145</td>\n",
       "      <td>weighty</td>\n",
       "    </tr>\n",
       "    <tr>\n",
       "      <th>10</th>\n",
       "      <td>bad</td>\n",
       "      <td>6</td>\n",
       "      <td>100</td>\n",
       "      <td>medium</td>\n",
       "    </tr>\n",
       "    <tr>\n",
       "      <th>11</th>\n",
       "      <td>good</td>\n",
       "      <td>4</td>\n",
       "      <td>92</td>\n",
       "      <td>medium</td>\n",
       "    </tr>\n",
       "    <tr>\n",
       "      <th>12</th>\n",
       "      <td>bad</td>\n",
       "      <td>6</td>\n",
       "      <td>100</td>\n",
       "      <td>weighty</td>\n",
       "    </tr>\n",
       "    <tr>\n",
       "      <th>13</th>\n",
       "      <td>bad</td>\n",
       "      <td>8</td>\n",
       "      <td>170</td>\n",
       "      <td>weighty</td>\n",
       "    </tr>\n",
       "    <tr>\n",
       "      <th>14</th>\n",
       "      <td>good</td>\n",
       "      <td>4</td>\n",
       "      <td>89</td>\n",
       "      <td>medium</td>\n",
       "    </tr>\n",
       "    <tr>\n",
       "      <th>15</th>\n",
       "      <td>good</td>\n",
       "      <td>4</td>\n",
       "      <td>65</td>\n",
       "      <td>light</td>\n",
       "    </tr>\n",
       "    <tr>\n",
       "      <th>16</th>\n",
       "      <td>bad</td>\n",
       "      <td>6</td>\n",
       "      <td>85</td>\n",
       "      <td>medium</td>\n",
       "    </tr>\n",
       "    <tr>\n",
       "      <th>17</th>\n",
       "      <td>good</td>\n",
       "      <td>4</td>\n",
       "      <td>81</td>\n",
       "      <td>light</td>\n",
       "    </tr>\n",
       "    <tr>\n",
       "      <th>18</th>\n",
       "      <td>bad</td>\n",
       "      <td>6</td>\n",
       "      <td>95</td>\n",
       "      <td>medium</td>\n",
       "    </tr>\n",
       "    <tr>\n",
       "      <th>19</th>\n",
       "      <td>bad</td>\n",
       "      <td>4</td>\n",
       "      <td>93</td>\n",
       "      <td>light</td>\n",
       "    </tr>\n",
       "  </tbody>\n",
       "</table>\n",
       "</div>"
      ],
      "text/plain": [
       "     MPG  cylinders   HP   weight\n",
       "0   good          4   75    light\n",
       "1    bad          6   90   medium\n",
       "2    bad          4  110   medium\n",
       "3    bad          8  175  weighty\n",
       "4    bad          6   95   medium\n",
       "5    bad          4   94    light\n",
       "6    bad          4   95    light\n",
       "7    bad          8  139  weighty\n",
       "8    bad          8  190  weighty\n",
       "9    bad          8  145  weighty\n",
       "10   bad          6  100   medium\n",
       "11  good          4   92   medium\n",
       "12   bad          6  100  weighty\n",
       "13   bad          8  170  weighty\n",
       "14  good          4   89   medium\n",
       "15  good          4   65    light\n",
       "16   bad          6   85   medium\n",
       "17  good          4   81    light\n",
       "18   bad          6   95   medium\n",
       "19   bad          4   93    light"
      ]
     },
     "execution_count": 40,
     "metadata": {},
     "output_type": "execute_result"
    }
   ],
   "source": [
    "from io import StringIO\n",
    "thefile = StringIO('MPG,cylinders,HP,weight\\ngood,4,75,light\\nbad,6,90,medium\\nbad,4,110,medium\\nbad,8,175,weighty\\nbad,6,95,medium\\nbad,4,94,light\\nbad,4,95,light\\nbad,8,139,weighty\\nbad,8,190,weighty\\nbad,8,145,weighty\\nbad,6,100,medium\\ngood,4,92,medium\\nbad,6,100,weighty\\nbad,8,170,weighty\\ngood,4,89,medium\\ngood,4,65,light\\nbad,6,85,medium\\ngood,4,81,light\\nbad,6,95,medium\\nbad,4,93,light')\n",
    "df = pd.read_csv(thefile)\n",
    "df"
   ]
  },
  {
   "cell_type": "markdown",
   "metadata": {},
   "source": [
    "### Please use numpy and pandas to do the computation for parts a) through f).  Do not use an existing decision tree implementation like sklearn for this question."
   ]
  },
  {
   "cell_type": "markdown",
   "metadata": {},
   "source": [
    "a) Start with the entire dataset and find the most common MPG value. (2 pts)"
   ]
  },
  {
   "cell_type": "code",
   "execution_count": 328,
   "metadata": {},
   "outputs": [
    {
     "data": {
      "text/plain": [
       "bad     15\n",
       "good     5\n",
       "Name: MPG, dtype: int64"
      ]
     },
     "execution_count": 328,
     "metadata": {},
     "output_type": "execute_result"
    }
   ],
   "source": [
    "#most common MPG value\n",
    "df['MPG'].value_counts()"
   ]
  },
  {
   "cell_type": "code",
   "execution_count": 329,
   "metadata": {},
   "outputs": [],
   "source": [
    "#Hence bad is the most common MPG value as it has the highest count"
   ]
  },
  {
   "cell_type": "code",
   "execution_count": 330,
   "metadata": {},
   "outputs": [],
   "source": [
    "def InformationGain(goodY,badY,goodN,badN):\n",
    "    def F(X,Y):\n",
    "        val1 = X*np.log2(1.*(X+Y)/X) if X>0 else 0\n",
    "        val2 = Y*np.log2(1.*(X+Y)/Y) if Y>0 else 0\n",
    "        return val1+val2\n",
    "    return (F(goodY+goodN,badY+badN)-F(goodY,badY)-F(goodN,badN)) / (goodY+goodN+badY+badN)"
   ]
  },
  {
   "cell_type": "markdown",
   "metadata": {},
   "source": [
    "b) Enumerate all the possible binary questions you could ask for each discrete-valued variable.  For each such split, compute the numbers of \"good\" and \"bad\" MPG vehicles in each of the two child nodes, and compute the information gain using the provided function above. (5 pts)"
   ]
  },
  {
   "cell_type": "code",
   "execution_count": 331,
   "metadata": {},
   "outputs": [
    {
     "name": "stdout",
     "output_type": "stream",
     "text": [
      "Information Gain for 4 0.3652938975319328\n"
     ]
    }
   ],
   "source": [
    "goodY,badY = 0,0\n",
    "goodN,badN = 0,0\n",
    "ig=[]\n",
    "igval=0\n",
    "\n",
    "for i in range(0,20):\n",
    "    if (df.iloc[i]['cylinders'] == 4):\n",
    "        if df.iloc[i]['MPG'] == 'good':\n",
    "            goodY=goodY+1\n",
    "        else:\n",
    "            badY= badY+ 1\n",
    "    else:\n",
    "        if df.iloc[i]['MPG'] == 'good':\n",
    "            goodN +=1\n",
    "        else:\n",
    "            badN += 1\n",
    "igval = InformationGain(goodY,badY,goodN,badN)\n",
    "ig.append(igval)       \n",
    "print(\"Information Gain for 4\", igval)"
   ]
  },
  {
   "cell_type": "code",
   "execution_count": 332,
   "metadata": {},
   "outputs": [
    {
     "name": "stdout",
     "output_type": "stream",
     "text": [
      "Information Gain for 6 0.15307795338969116\n"
     ]
    }
   ],
   "source": [
    "goodY,badY = 0,0\n",
    "goodN,badN = 0,0\n",
    "igval=0\n",
    "\n",
    "for i in range(0,20):\n",
    "    if (df.iloc[i]['cylinders'] == 6):\n",
    "        if df.iloc[i]['MPG'] == 'good':\n",
    "            goodY=goodY+1\n",
    "        else:\n",
    "            badY= badY+ 1\n",
    "    else:\n",
    "        if df.iloc[i]['MPG'] == 'good':\n",
    "            goodN +=1\n",
    "        else:\n",
    "            badN += 1\n",
    "igval = InformationGain(goodY,badY,goodN,badN)\n",
    "ig.append(igval)       \n",
    "print(\"Information Gain for 6\", igval)"
   ]
  },
  {
   "cell_type": "code",
   "execution_count": 333,
   "metadata": {},
   "outputs": [
    {
     "name": "stdout",
     "output_type": "stream",
     "text": [
      "Information Gain for 8 0.1225562489182657\n"
     ]
    }
   ],
   "source": [
    "goodY,badY = 0,0\n",
    "goodN,badN = 0,0\n",
    "igval=0\n",
    "\n",
    "for i in range(0,20):\n",
    "    if (df.iloc[i]['cylinders'] == 8):\n",
    "        if df.iloc[i]['MPG'] == 'good':\n",
    "            goodY=goodY+1\n",
    "        else:\n",
    "            badY= badY+ 1\n",
    "    else:\n",
    "        if df.iloc[i]['MPG'] == 'good':\n",
    "            goodN +=1\n",
    "        else:\n",
    "            badN += 1\n",
    "igval = InformationGain(goodY,badY,goodN,badN)\n",
    "ig.append(igval)       \n",
    "print(\"Information Gain for 8\", igval)"
   ]
  },
  {
   "cell_type": "code",
   "execution_count": 334,
   "metadata": {},
   "outputs": [
    {
     "name": "stdout",
     "output_type": "stream",
     "text": [
      "Information Gain for light 0.09710717945150363\n"
     ]
    }
   ],
   "source": [
    "goodY,badY = 0,0\n",
    "goodN,badN = 0,0\n",
    "igval=0\n",
    "\n",
    "for i in range(0,20):\n",
    "    if (df.iloc[i]['weight'] == 'light'):\n",
    "        if df.iloc[i]['MPG'] == 'good':\n",
    "            goodY=goodY+1\n",
    "        else:\n",
    "            badY= badY+ 1\n",
    "    else:\n",
    "        if df.iloc[i]['MPG'] == 'good':\n",
    "            goodN +=1\n",
    "        else:\n",
    "            badN += 1\n",
    "igval = InformationGain(goodY,badY,goodN,badN)\n",
    "ig.append(igval)       \n",
    "print(\"Information Gain for light\", igval)"
   ]
  },
  {
   "cell_type": "code",
   "execution_count": 335,
   "metadata": {},
   "outputs": [
    {
     "name": "stdout",
     "output_type": "stream",
     "text": [
      "Information Gain for medium 0.0\n"
     ]
    }
   ],
   "source": [
    "goodY,badY = 0,0\n",
    "goodN,badN = 0,0\n",
    "igval=0\n",
    "\n",
    "for i in range(0,20):\n",
    "    if (df.iloc[i]['weight'] == 'medium'):\n",
    "        if df.iloc[i]['MPG'] == 'good':\n",
    "            goodY=goodY+1\n",
    "        else:\n",
    "            badY= badY+ 1\n",
    "    else:\n",
    "        if df.iloc[i]['MPG'] == 'good':\n",
    "            goodN +=1\n",
    "        else:\n",
    "            badN += 1\n",
    "igval = InformationGain(goodY,badY,goodN,badN)\n",
    "ig.append(igval)       \n",
    "print(\"Information Gain for medium\", igval)"
   ]
  },
  {
   "cell_type": "code",
   "execution_count": 336,
   "metadata": {},
   "outputs": [
    {
     "name": "stdout",
     "output_type": "stream",
     "text": [
      "Information Gain for weighty 0.15307795338969116\n"
     ]
    }
   ],
   "source": [
    "goodY,badY = 0,0\n",
    "goodN,badN = 0,0\n",
    "igval=0\n",
    "\n",
    "for i in range(0,20):\n",
    "    if (df.iloc[i]['weight'] == 'weighty'):\n",
    "        if df.iloc[i]['MPG'] == 'good':\n",
    "            goodY=goodY+1\n",
    "        else:\n",
    "            badY= badY+ 1\n",
    "    else:\n",
    "        if df.iloc[i]['MPG'] == 'good':\n",
    "            goodN +=1\n",
    "        else:\n",
    "            badN += 1\n",
    "igval = InformationGain(goodY,badY,goodN,badN)\n",
    "ig.append(igval)       \n",
    "print(\"Information Gain for weighty\", igval)"
   ]
  },
  {
   "cell_type": "code",
   "execution_count": 337,
   "metadata": {},
   "outputs": [
    {
     "data": {
      "text/plain": [
       "[0.3652938975319328,\n",
       " 0.15307795338969116,\n",
       " 0.1225562489182657,\n",
       " 0.09710717945150363,\n",
       " 0.0,\n",
       " 0.15307795338969116]"
      ]
     },
     "execution_count": 337,
     "metadata": {},
     "output_type": "execute_result"
    }
   ],
   "source": [
    "ig"
   ]
  },
  {
   "cell_type": "markdown",
   "metadata": {},
   "source": [
    "c) Enumerate all the possible binary questions you could ask for the real-valued variable HP.  For each such split, compute the numbers of \"good\" and \"bad\" MPG vehicles in each of the two child nodes, and compute the information gain using the provided function above. (5 pts) \n",
    "\n",
    "NOTE: if you'd like, you can just use all midpoints between consecutive values of the sorted HP attribute.  You are not required to exclude provably suboptimal questions like we did in the lecture."
   ]
  },
  {
   "cell_type": "code",
   "execution_count": 338,
   "metadata": {},
   "outputs": [],
   "source": [
    "ig2=0\n",
    "iglist2 = []\n",
    "node_ig = {}\n",
    "#1. Sorting the dataframe on HP\n",
    "\n",
    "df = df.sort_values(by= ['HP'])\n",
    "\n",
    "#Finding midpoints between consecutive values\n",
    "\n",
    "for i in range(0,19):\n",
    "    good1,bad1=0,0\n",
    "    good2,bad2 = 0,0\n",
    "    mid = (df.iloc[i]['HP'] + df.iloc[i+1]['HP'])/2\n",
    "    for j in range(0,20):\n",
    "        if df.iloc[j]['HP'] > mid:\n",
    "            if df.iloc[j]['MPG'] == 'good':\n",
    "                good1 =good1+1\n",
    "            else: \n",
    "                bad1= bad1+1\n",
    "        else:\n",
    "            if df.iloc[j]['MPG'] == 'good':\n",
    "                good2 =good2+1\n",
    "            else:\n",
    "                bad2 =bad2+ 1\n",
    "    ig2=InformationGain(good1,bad1,good2,bad2)\n",
    "    iglist2.append(ig2)\n",
    "    index = iglist2.index(max(iglist2))\n",
    "    maxinfogain = max(iglist2)\n",
    "    nodeval = df.iloc[index]['HP'] + df.iloc[index+1]['HP']\n",
    "    nodeval = nodeval/2\n",
    "    node_ig[nodeval] = InformationGain(good1,bad1,good2,bad2)\n"
   ]
  },
  {
   "cell_type": "code",
   "execution_count": 340,
   "metadata": {},
   "outputs": [
    {
     "name": "stdout",
     "output_type": "stream",
     "text": [
      "Maximum Information Gain: 0.5091859254608121\n",
      "Node Value: 92.5\n"
     ]
    }
   ],
   "source": [
    "igdic = {}\n",
    "\n",
    "if maxgain > max(ig):\n",
    "    print('Maximum Information Gain:', maxgain)\n",
    "    print('Node Value:', nodeval)\n",
    "    igdic['HP'] = nodeval\n",
    "else: \n",
    "    print('Maximum Information Gain:',max(ig))\n",
    "    print('Node Value:', max(ig))\n",
    "    igdic[max(ig)] = max(ig)"
   ]
  },
  {
   "cell_type": "markdown",
   "metadata": {},
   "source": [
    "d) Based on your results for parts b and c, what is the optimal binary split of the data?  Of the two child nodes created by this split, which (if any) would require further partitioning? (4 pts)"
   ]
  },
  {
   "cell_type": "markdown",
   "metadata": {},
   "source": [
    "For optimal split and maximum information gain, the first node should be: HP > 92.5.\n",
    "\n",
    "The node with value HP > 92.5 contains 0 good and 13 bad nodes where as HP <= 92.5 contains 5 good and 2 bad nodes and hence need further partitioning."
   ]
  },
  {
   "cell_type": "markdown",
   "metadata": {},
   "source": [
    "e) Repeat parts a through d until all training data points are perfectly classified by the resulting tree. (6 pts)"
   ]
  },
  {
   "cell_type": "code",
   "execution_count": 341,
   "metadata": {},
   "outputs": [],
   "source": [
    "def split(df, col, nodeval):\n",
    "    if isinstance(nodeval,int):\n",
    "        part1= df.loc[df[col] > nodeval]\n",
    "        part2= df.loc[df[col] <= nodeval]\n",
    "    elif isinstance(nodeval,float):\n",
    "        part1= df.loc[df[col] > nodeval]\n",
    "        part2= df.loc[df[col] <= nodeval]        \n",
    "    else:\n",
    "        part1= df.loc[df[col] == nodeval] \n",
    "        part2= df.loc[df[col] != nodeval]\n",
    "        \n",
    "    return (part1,part2)"
   ]
  },
  {
   "cell_type": "code",
   "execution_count": 345,
   "metadata": {},
   "outputs": [],
   "source": [
    "def test(part):\n",
    "    if part['MPG'].value_counts().size == 1:\n",
    "        return ('Stop')\n",
    "    else: return ('Split')"
   ]
  },
  {
   "cell_type": "code",
   "execution_count": 346,
   "metadata": {},
   "outputs": [],
   "source": [
    "part1,part2 = split(df,'HP',nodeval)"
   ]
  },
  {
   "cell_type": "code",
   "execution_count": 347,
   "metadata": {},
   "outputs": [
    {
     "data": {
      "text/plain": [
       "'Stop'"
      ]
     },
     "execution_count": 347,
     "metadata": {},
     "output_type": "execute_result"
    }
   ],
   "source": [
    "check_part1 = test(part1)\n",
    "check_part1"
   ]
  },
  {
   "cell_type": "code",
   "execution_count": 348,
   "metadata": {},
   "outputs": [
    {
     "data": {
      "text/plain": [
       "'Split'"
      ]
     },
     "execution_count": 348,
     "metadata": {},
     "output_type": "execute_result"
    }
   ],
   "source": [
    "check_part2 = test(part2)\n",
    "check_part2"
   ]
  },
  {
   "cell_type": "code",
   "execution_count": 349,
   "metadata": {},
   "outputs": [],
   "source": [
    "#Hence, we'll continue splitting part2"
   ]
  },
  {
   "cell_type": "code",
   "execution_count": 354,
   "metadata": {},
   "outputs": [],
   "source": [
    "def b (df2,col):\n",
    "    for c in col:\n",
    "        val = df2[c].unique().tolist()\n",
    "        for j in val:\n",
    "            goodY,badY,goodN,badN = 0,0,0,0\n",
    "            for i in range(0,len(df)):\n",
    "                if df.iloc[i][c] == j:\n",
    "                    if df.iloc[i]['MPG'] == 'good':\n",
    "                        goodY +=1\n",
    "                    else: badY += 1\n",
    "                else: \n",
    "                    if df.iloc[i]['MPG'] == 'good':\n",
    "                        goodN +=1\n",
    "                    else: badN += 1\n",
    "            gaindic[j] = InformationGain(goodY,badY,goodN,badN)\n",
    "    return gaindic"
   ]
  },
  {
   "cell_type": "code",
   "execution_count": 305,
   "metadata": {},
   "outputs": [],
   "source": [
    "def c(df,col):\n",
    "    ig2=0\n",
    "    iglist2 = []\n",
    "    node_ig = {}\n",
    "\n",
    "    df = df.sort_values(by= [col])\n",
    "\n",
    "    for i in range(0,len(df)-1):\n",
    "        good1,bad1=0,0\n",
    "        good2,bad2 = 0,0\n",
    "        mid = (df.iloc[i][col] + df.iloc[i+1][col])/2\n",
    "        for j in range(0,len(df)):\n",
    "            if df.iloc[j][col] > mid:\n",
    "                if df.iloc[j]['MPG'] == 'good':\n",
    "                    good1 =good1+1\n",
    "                else: \n",
    "                    bad1= bad1+1\n",
    "            else:\n",
    "                if df.iloc[j]['MPG'] == 'good':\n",
    "                    good2 =good2+1\n",
    "                else:\n",
    "                    bad2 =bad2+ 1\n",
    "        ig2=InformationGain(good1,bad1,good2,bad2)\n",
    "        iglist2.append(ig2)\n",
    "        index = iglist2.index(max(iglist2))\n",
    "        maxinfogain = max(iglist2)\n",
    "        nodeval = df.iloc[index][col] + df.iloc[index+1][col]\n",
    "        nodeval = nodeval/2\n",
    "        node_ig[nodeval] = InformationGain(good1,bad1,good2,bad2)\n",
    "    return node_ig,maxinfogain,nodeval\n",
    "\n"
   ]
  },
  {
   "cell_type": "code",
   "execution_count": 367,
   "metadata": {},
   "outputs": [],
   "source": [
    "def c(df,col):    \n",
    "    #first, sort the df['HP']\n",
    "    df = df.sort_values(by= [col])\n",
    "\n",
    "    zzlist = []\n",
    "    zz = {}\n",
    "    #then get the midpoints between consecutive values\n",
    "    for i in range(len(df)-1):\n",
    "        goodY,badY,goodN,badN = 0,0,0,0\n",
    "        midpoint = (df.iloc[i][col] + df.iloc[i+1][col])/2\n",
    "        for t in range(len(df)):\n",
    "            if df.iloc[t][col] > midpoint:\n",
    "                if df.iloc[t]['MPG'] == 'good':\n",
    "                        goodY +=1\n",
    "                else: badY += 1\n",
    "            else:\n",
    "                if df.iloc[t]['MPG'] == 'good':\n",
    "                        goodN +=1\n",
    "                else: badN += 1\n",
    "        zzlist.append(InformationGain(goodY,badY,goodN,badN))\n",
    "        index = zzlist.index(max(zzlist))\n",
    "        maxval = max(zzlist)\n",
    "        nodeval = (df.iloc[index][col] + df.iloc[index+1][col])/2\n",
    "        zz[nodeval] = InformationGain(goodY,badY,goodN,badN)\n",
    "    return zz,maxval,nodeval"
   ]
  },
  {
   "cell_type": "code",
   "execution_count": 372,
   "metadata": {},
   "outputs": [],
   "source": [
    "nodelist ={}"
   ]
  },
  {
   "cell_type": "code",
   "execution_count": 373,
   "metadata": {},
   "outputs": [],
   "source": [
    "cols = ['cylinders','weight']\n",
    "gi_value1 = b(part1,cols)\n",
    "givalue2, index,nval = c(part1,'HP')\n",
    "\n",
    "temp = givalue2.copy()\n",
    "temp.update(gi_value1)\n",
    "givalue3 = dict(temp)\n",
    "nn = max(givalue3, key=givalue3.get)\n",
    "\n",
    "for i in cols:\n",
    "    if nn in part1[i].unique().tolist():\n",
    "        cn = i\n",
    "        break\n",
    "    else:\n",
    "        cn = 'HP'\n",
    "nodelist[cn] = nn"
   ]
  },
  {
   "cell_type": "code",
   "execution_count": 374,
   "metadata": {},
   "outputs": [],
   "source": [
    "def split2(df, column, value):\n",
    "    # Divide the rows into two sets and return them\n",
    "    if isinstance(value,int) or isinstance(value,float):\n",
    "        subset1= df.loc[df[column] > value]\n",
    "        subset2= df.loc[df[column] <= value]\n",
    "    else:\n",
    "        subset1= df.loc[df[column] == value] \n",
    "        subset2= df.loc[df[column] != value]\n",
    "    return (subset1,subset2)\n",
    "\n",
    "part3,part4 = split(part2,cn,nn)\n",
    "if part3['MPG'].value_counts().size == 1:\n",
    "    check_part3 = 'Stop'\n",
    "else:\n",
    "    check_part3= 'Split'\n",
    "if part4['MPG'].value_counts().size == 1:\n",
    "    check_part4 = 'Stop'\n",
    "else:\n",
    "    check_part4= 'Split'\n",
    "\n"
   ]
  },
  {
   "cell_type": "code",
   "execution_count": 376,
   "metadata": {},
   "outputs": [
    {
     "name": "stdout",
     "output_type": "stream",
     "text": [
      "Stop\n",
      "List of nodes:\n",
      "{'cylinders': 4}\n"
     ]
    }
   ],
   "source": [
    "if check_part3 == 'Stop' and check_part4 == 'Stop':\n",
    "    print ('Stop')\n",
    "elif check_part3 != 'Stop' and check_part4 == 'Stop':\n",
    "    print ('Split subset 1')\n",
    "\n",
    "elif check_part3 == 'Stop' and check_part4 != 'Stop':\n",
    "    print ('Split subset 2')\n",
    "    \n",
    "else: print ('Split both subset 1 and subset 2')\n",
    "    \n",
    "print ('List of nodes:')\n",
    "print (nodelist)\n",
    "\n",
    "\n"
   ]
  },
  {
   "cell_type": "code",
   "execution_count": 377,
   "metadata": {},
   "outputs": [
    {
     "data": {
      "text/plain": [
       "'Stop'"
      ]
     },
     "execution_count": 377,
     "metadata": {},
     "output_type": "execute_result"
    }
   ],
   "source": [
    "check_part3"
   ]
  },
  {
   "cell_type": "code",
   "execution_count": 380,
   "metadata": {},
   "outputs": [
    {
     "name": "stdout",
     "output_type": "stream",
     "text": [
      "Root Node:\n",
      " bad     15\n",
      "good     5\n",
      "Name: MPG, dtype: int64\n",
      "\n",
      " HP > 92.5 \n",
      " bad    13\n",
      "Name: MPG, dtype: int64\n",
      "\n",
      " HP <= 92.5 \n",
      " good    5\n",
      "bad     2\n",
      "Name: MPG, dtype: int64\n",
      "\n",
      " Subset 1 Cylinders != 4\n",
      " bad    2\n",
      "Name: MPG, dtype: int64\n",
      "\n",
      " Subset 2 Cylinders == 4\n",
      " good    5\n",
      "Name: MPG, dtype: int64\n"
     ]
    }
   ],
   "source": [
    "print ('Root Node:\\n',df['MPG'].value_counts())\n",
    "print ('\\n HP > 92.5 \\n', part1['MPG'].value_counts())\n",
    "print ('\\n HP <= 92.5 \\n', part2['MPG'].value_counts())\n",
    "print ('\\n Subset 1 Cylinders != 4\\n', part3['MPG'].value_counts())\n",
    "print ('\\n Subset 2 Cylinders == 4\\n', part4['MPG'].value_counts())"
   ]
  },
  {
   "cell_type": "markdown",
   "metadata": {},
   "source": [
    "f) Draw or show the final decision tree in a format of your choice.  The decision to make at each step and the predicted value at each leaf node must be clear. (4 pts)"
   ]
  },
  {
   "cell_type": "markdown",
   "metadata": {},
   "source": [
    "Graph image attached with homework file"
   ]
  },
  {
   "cell_type": "markdown",
   "metadata": {},
   "source": [
    "g) Classify each of the following four vehicles as having \"good\" or \"bad\" fuel efficiency (miles per gallon).  Do this by hand using the tree structure learned in part f. (4 pts)\n",
    "\n",
    "good,4,70,light\n",
    "\n",
    "bad,6,113,medium\n",
    "\n",
    "bad,6,83,weighty\n",
    "\n",
    "bad,4,95,weighty\n"
   ]
  },
  {
   "cell_type": "markdown",
   "metadata": {},
   "source": [
    "### Question 3, Predicting burden of disease （40 pts)"
   ]
  },
  {
   "cell_type": "code",
   "execution_count": 381,
   "metadata": {},
   "outputs": [
    {
     "data": {
      "text/html": [
       "<div>\n",
       "<style scoped>\n",
       "    .dataframe tbody tr th:only-of-type {\n",
       "        vertical-align: middle;\n",
       "    }\n",
       "\n",
       "    .dataframe tbody tr th {\n",
       "        vertical-align: top;\n",
       "    }\n",
       "\n",
       "    .dataframe thead th {\n",
       "        text-align: right;\n",
       "    }\n",
       "</style>\n",
       "<table border=\"1\" class=\"dataframe\">\n",
       "  <thead>\n",
       "    <tr style=\"text-align: right;\">\n",
       "      <th></th>\n",
       "      <th>Country</th>\n",
       "      <th>FrxnPeaceIn10</th>\n",
       "      <th>ODA4H2OPcptaDol</th>\n",
       "      <th>RenewResm3PcptaYr</th>\n",
       "      <th>SustAccImprWatRur</th>\n",
       "      <th>SustAccImprWatUrb</th>\n",
       "      <th>SustAccImprSanRur</th>\n",
       "      <th>SustAccImprSanUrb</th>\n",
       "      <th>TotHlthExpPctofGDP</th>\n",
       "      <th>GenGovtPctofTotHlthExp</th>\n",
       "      <th>ExtResHlthPctTotExpHlth</th>\n",
       "      <th>PCptaGovtExpHlthAvgExcRt</th>\n",
       "      <th>GDPPCptaIntDol</th>\n",
       "      <th>AdultLtrcyRate</th>\n",
       "      <th>FemaleLtrcyRate</th>\n",
       "      <th>BurdenOfDisease</th>\n",
       "    </tr>\n",
       "  </thead>\n",
       "  <tbody>\n",
       "    <tr>\n",
       "      <th>0</th>\n",
       "      <td>Afghanistan</td>\n",
       "      <td>0.1</td>\n",
       "      <td>0.16</td>\n",
       "      <td>2986</td>\n",
       "      <td>0.10891</td>\n",
       "      <td>0.18812</td>\n",
       "      <td>0.049505</td>\n",
       "      <td>0.15842</td>\n",
       "      <td>0.065</td>\n",
       "      <td>0.395</td>\n",
       "      <td>0.4560</td>\n",
       "      <td>4</td>\n",
       "      <td>430</td>\n",
       "      <td>0.35644</td>\n",
       "      <td>0.20792</td>\n",
       "      <td>awful</td>\n",
       "    </tr>\n",
       "    <tr>\n",
       "      <th>1</th>\n",
       "      <td>Albania</td>\n",
       "      <td>1.0</td>\n",
       "      <td>5.58</td>\n",
       "      <td>13306</td>\n",
       "      <td>0.94059</td>\n",
       "      <td>0.98020</td>\n",
       "      <td>0.801980</td>\n",
       "      <td>0.98020</td>\n",
       "      <td>0.065</td>\n",
       "      <td>0.417</td>\n",
       "      <td>0.0340</td>\n",
       "      <td>49</td>\n",
       "      <td>6158</td>\n",
       "      <td>0.85644</td>\n",
       "      <td>0.78713</td>\n",
       "      <td>low</td>\n",
       "    </tr>\n",
       "    <tr>\n",
       "      <th>2</th>\n",
       "      <td>Algeria</td>\n",
       "      <td>0.0</td>\n",
       "      <td>0.33</td>\n",
       "      <td>473</td>\n",
       "      <td>0.79208</td>\n",
       "      <td>0.91089</td>\n",
       "      <td>0.811880</td>\n",
       "      <td>0.98020</td>\n",
       "      <td>0.041</td>\n",
       "      <td>0.808</td>\n",
       "      <td>0.0005</td>\n",
       "      <td>71</td>\n",
       "      <td>4860</td>\n",
       "      <td>0.69307</td>\n",
       "      <td>0.60396</td>\n",
       "      <td>high</td>\n",
       "    </tr>\n",
       "  </tbody>\n",
       "</table>\n",
       "</div>"
      ],
      "text/plain": [
       "       Country  FrxnPeaceIn10  ODA4H2OPcptaDol  RenewResm3PcptaYr  \\\n",
       "0  Afghanistan            0.1             0.16               2986   \n",
       "1      Albania            1.0             5.58              13306   \n",
       "2      Algeria            0.0             0.33                473   \n",
       "\n",
       "   SustAccImprWatRur  SustAccImprWatUrb  SustAccImprSanRur  SustAccImprSanUrb  \\\n",
       "0            0.10891            0.18812           0.049505            0.15842   \n",
       "1            0.94059            0.98020           0.801980            0.98020   \n",
       "2            0.79208            0.91089           0.811880            0.98020   \n",
       "\n",
       "   TotHlthExpPctofGDP  GenGovtPctofTotHlthExp  ExtResHlthPctTotExpHlth  \\\n",
       "0               0.065                   0.395                   0.4560   \n",
       "1               0.065                   0.417                   0.0340   \n",
       "2               0.041                   0.808                   0.0005   \n",
       "\n",
       "   PCptaGovtExpHlthAvgExcRt  GDPPCptaIntDol  AdultLtrcyRate  FemaleLtrcyRate  \\\n",
       "0                         4             430         0.35644          0.20792   \n",
       "1                        49            6158         0.85644          0.78713   \n",
       "2                        71            4860         0.69307          0.60396   \n",
       "\n",
       "  BurdenOfDisease  \n",
       "0           awful  \n",
       "1             low  \n",
       "2            high  "
      ]
     },
     "execution_count": 381,
     "metadata": {},
     "output_type": "execute_result"
    }
   ],
   "source": [
    "data=pd.read_csv(\"Burden of diarrheal illness by country.csv\")\n",
    "data.head(3)"
   ]
  },
  {
   "cell_type": "code",
   "execution_count": null,
   "metadata": {},
   "outputs": [],
   "source": []
  },
  {
   "cell_type": "markdown",
   "metadata": {},
   "source": [
    "### Data dictionary\n",
    "\n",
    "NAME: Burden of diarrheal illness by country\n",
    "\n",
    "SIZE: 130 Countries, 16 Variables\n",
    "\n",
    "VARIABLE DESCRIPTIONS:\n",
    "\n",
    "Country: Country name\n",
    "\n",
    "FrxnPeaceIn10: Fraction of the past ten years in which a country has been at peace \n",
    "\n",
    "ODA4H2OPcptaDol: Per Capita Official Developmental Assistance for water projects\n",
    "\n",
    "RenewResm3PcptaYr: Renewable Water Resources in cubic meters per capita per year\n",
    "\n",
    "SustAccImprWatRur: Fraction of rural population with sustainable access to improved water\n",
    "\n",
    "SustAccImprWatUrb: Fraction of urban population with sustainable access to improved water\n",
    "\n",
    "SustAccImprSanRur: Fraction of rural population with sustainable access to improved sanitation\n",
    "\n",
    "SustAccImprSanUrb: Fraction of urban population with sustainable access to improved sanitation\n",
    "\n",
    "TotHlthExpPctofGDP: Fraction of a country's GDP devoted to health spending\n",
    "\n",
    "GenGovtPctofTotHlthExp: The fraction of total health expenditures for a country which is provided by the government\n",
    "\n",
    "ExtResHlthPctTotExpHlth: The fraction of total health expenditures for a country which is comes from sources external to the country\n",
    "\n",
    "PCptaGovtExpHlthAvgExcRt: Per Capita Government Health Expenditures at the average exchange rate\n",
    "\n",
    "GDPPCptaIntDol: Gross Domestic Product per capita in international dollars\n",
    "\n",
    "AdultLtrcyRate: Adult Literacy rate\n",
    "\n",
    "FemaleLtrcyRate: Female Literacy rate\n",
    "\n",
    "BurdenOfDisease: Our target variable for classification.  The burden of disease due to diarrheal illness, categorized into \"low\", \"medium\", \"high\", and \"awful\" quartiles.  For each country, we have estimates of the number of Disability-Adjusted Life Years lost per 1000 persons per year (DALYs) due to diarrheal illness.  Countries with \"low\" burden of disease have up to 2.75345 DALYs; countries with \"medium\" burden of disease have between 2.75345 and 8.2127 DALYs; countries with \"high\" burden of disease have between 8.2127 and 26.699 DALYs; and countries with \"awful\" burden of diease have more than 26.699 DALYs."
   ]
  },
  {
   "cell_type": "markdown",
   "metadata": {},
   "source": [
    "### Your goal is to train a decision tree classifier for the attribute “BurdenOfDisease\" using all other variables (except country name) as features with sklearn.tree.DecisionTreeClassifier. \n",
    "http://scikit-learn.org/stable/modules/generated/sklearn.tree.DecisionTreeClassifier.html"
   ]
  },
  {
   "cell_type": "markdown",
   "metadata": {},
   "source": [
    "a) Please choose a train/test split and choose a hyper-parameter governing model simplicity, for example, the maximum tree depth or maximum number of leaf nodes. Then, fit your decision tree classifier (using the training set) for different values of this parameter and for each such value, record the corresponding classification accuracy on the test set. (10 pts)"
   ]
  },
  {
   "cell_type": "code",
   "execution_count": 400,
   "metadata": {},
   "outputs": [
    {
     "name": "stdout",
     "output_type": "stream",
     "text": [
      "Classification accuracies on the test set: [0.48717948717948717, 0.6153846153846154, 0.6153846153846154, 0.6666666666666666, 0.6666666666666666, 0.6153846153846154, 0.6410256410256411, 0.5897435897435898, 0.6923076923076923]\n"
     ]
    }
   ],
   "source": [
    "from sklearn.model_selection import train_test_split\n",
    "from sklearn.tree import DecisionTreeClassifier\n",
    "from sklearn.preprocessing import LabelEncoder\n",
    "\n",
    "data2=data.dropna()\n",
    "\n",
    "\n",
    "y=data2.loc[:,\"BurdenOfDisease\"]\n",
    "\n",
    "X=data2.loc[:,\"FrxnPeaceIn10\":\"FemaleLtrcyRate\"]\n",
    "\n",
    "# Splitting the data into 70% training, 30% testing\n",
    "X_train,X_test,y_train,y_test=train_test_split(X, y, test_size=0.3, random_state=111)\n",
    "\n",
    "lble = LabelEncoder()\n",
    "lble.fit(['low','medium','high','awful'])\n",
    "lble.transform(y)\n",
    "\n",
    "OS=[]\n",
    "for i in range(1,10):\n",
    "    dt=DecisionTreeClassifier(max_depth=i)\n",
    "    dt.fit(X_train,y_train)\n",
    "    OS.append(dt.score(X_test,y_test))\n",
    "\n",
    "print ('Classification accuracies on the test set:',OS)"
   ]
  },
  {
   "cell_type": "markdown",
   "metadata": {},
   "source": [
    "b) Make a plot of accuracy vs. simplicity for different values of the hyper-parameter chosen in part a). That is, the x-axis should be hyper-parameter value (e.g. tree depth) and the y-axis should be accuracy. (10 pts)"
   ]
  },
  {
   "cell_type": "code",
   "execution_count": 401,
   "metadata": {},
   "outputs": [
    {
     "data": {
      "image/png": "[encoded data removed]",
      "text/plain": [
       "<Figure size 504x360 with 1 Axes>"
      ]
     },
     "metadata": {
      "needs_background": "light"
     },
     "output_type": "display_data"
    }
   ],
   "source": [
    "import matplotlib.pylab as plt\n",
    "\n",
    "plt.figure(figsize=(7,5))\n",
    "plt.plot(range(1,10),OS)\n",
    "plt.xlabel(\"Max depth\")\n",
    "plt.ylabel(\"Accuracy\")\n",
    "plt.title(\"Accuracy vs Simplicity\")\n",
    "plt.show()"
   ]
  },
  {
   "cell_type": "markdown",
   "metadata": {},
   "source": [
    "c) Tune the hyper-parameter you choose in part a) by cross-validation using the training data. You can choose to use the GridSearchCV package from sklearn or write your own code to do cross-validation by spliting the training data into training and validation data. What is the out of sample accuracy after tuning the hyper-parameter? (10 pts)"
   ]
  },
  {
   "cell_type": "code",
   "execution_count": 402,
   "metadata": {},
   "outputs": [
    {
     "name": "stdout",
     "output_type": "stream",
     "text": [
      "{'max_depth': 3}\n",
      "Out of sample accuracy 0.6153846153846154\n"
     ]
    }
   ],
   "source": [
    "from sklearn.model_selection import GridSearchCV\n",
    "\n",
    "\n",
    "param_grid = {'max_depth':range(1,10)}\n",
    "dt=DecisionTreeClassifier(random_state = 111)\n",
    "gr=GridSearchCV(dt,param_grid=param_grid)\n",
    "rs=gr.fit(X_train,y_train)\n",
    "print (rs.best_params_)\n",
    "print (\"Out of sample accuracy\",rs.score(X_test,y_test))\n"
   ]
  },
  {
   "cell_type": "markdown",
   "metadata": {},
   "source": [
    "d) Visualize a simple decision tree (e.g., with max_depth = 2 or 3) learned from the data.  To do so, given your decision tree dt, you can use the code below, then copy and paste the resulting output into http://www.webgraphviz.com.  Alternatively, if you have graphviz installed on your machine, you can use that. (5 pts)"
   ]
  },
  {
   "cell_type": "code",
   "execution_count": 403,
   "metadata": {},
   "outputs": [
    {
     "name": "stdout",
     "output_type": "stream",
     "text": [
      "digraph Tree {\n",
      "node [shape=box, style=\"filled, rounded\", color=\"black\", fontname=helvetica] ;\n",
      "edge [fontname=helvetica] ;\n",
      "0 [label=\"GDPPCptaIntDol <= 2349.5, samples = 91, value = [22, 21, 24, 24], class = low\", fillcolor=\"#ffffff\"] ;\n",
      "1 [label=\"SustAccImprSanRur <= 0.421, samples = 34, value = [21, 13, 0, 0], class = awful\", fillcolor=\"#f5cfb4\"] ;\n",
      "0 -> 1 [labeldistance=2.5, labelangle=45, headlabel=\"True\"] ;\n",
      "2 [label=\"SustAccImprWatRur <= 0.792, samples = 28, value = [21, 7, 0, 0], class = awful\", fillcolor=\"#eeab7b\"] ;\n",
      "1 -> 2 ;\n",
      "3 [label=\"samples = 25, value = [21, 4, 0, 0], class = awful\", fillcolor=\"#ea995f\"] ;\n",
      "2 -> 3 ;\n",
      "4 [label=\"samples = 3, value = [0, 3, 0, 0], class = high\", fillcolor=\"#47e539\"] ;\n",
      "2 -> 4 ;\n",
      "5 [label=\"samples = 6, value = [0, 6, 0, 0], class = high\", fillcolor=\"#47e539\"] ;\n",
      "1 -> 5 ;\n",
      "6 [label=\"AdultLtrcyRate <= 0.934, samples = 57, value = [1, 8, 24, 24], class = low\", fillcolor=\"#ffffff\"] ;\n",
      "0 -> 6 [labeldistance=2.5, labelangle=-45, headlabel=\"False\"] ;\n",
      "7 [label=\"ExtResHlthPctTotExpHlth <= 0.03, samples = 32, value = [1, 8, 3, 20], class = medium\", fillcolor=\"#eb9cf2\"] ;\n",
      "6 -> 7 ;\n",
      "8 [label=\"samples = 20, value = [0, 1, 2, 17], class = medium\", fillcolor=\"#de5ae9\"] ;\n",
      "7 -> 8 ;\n",
      "9 [label=\"samples = 12, value = [1, 7, 1, 3], class = high\", fillcolor=\"#adf3a7\"] ;\n",
      "7 -> 9 ;\n",
      "10 [label=\"SustAccImprSanRur <= 0.51, samples = 25, value = [0, 0, 21, 4], class = low\", fillcolor=\"#5fb0ea\"] ;\n",
      "6 -> 10 ;\n",
      "11 [label=\"samples = 5, value = [0, 0, 1, 4], class = medium\", fillcolor=\"#e16aec\"] ;\n",
      "10 -> 11 ;\n",
      "12 [label=\"samples = 20, value = [0, 0, 20, 0], class = low\", fillcolor=\"#399de5\"] ;\n",
      "10 -> 12 ;\n",
      "}\n"
     ]
    }
   ],
   "source": [
    "from sklearn import tree\n",
    "\n",
    "dt = DecisionTreeClassifier(max_depth=3)\n",
    "dt.fit(X_train,y_train)\n",
    "\n",
    "thestring=tree.export_graphviz(dt,out_file=None,\n",
    "                         feature_names=X_train.columns.values,  \n",
    "                         class_names=dt.classes_,  \n",
    "                         filled=True, rounded=True,  \n",
    "                         special_characters=True,impurity=False).replace(\"<br/>\",\", \").replace(\"&le;\",\"<=\").replace(\"=<\",\"=\\\"\").replace(\">,\",\"\\\",\")\n",
    "print (thestring)"
   ]
  },
  {
   "cell_type": "code",
   "execution_count": 404,
   "metadata": {},
   "outputs": [
    {
     "data": {
      "image/png": "[encoded data removed]",
      "text/plain": [
       "<IPython.core.display.Image object>"
      ]
     },
     "execution_count": 404,
     "metadata": {},
     "output_type": "execute_result"
    }
   ],
   "source": [
    "from sklearn import tree\n",
    "from IPython.display import Image  \n",
    "import pydotplus\n",
    "thestring = tree.export_graphviz(dt, out_file=None,  \n",
    "                         feature_names=X_train.columns.values, \n",
    "                         class_names=dt.classes_,  \n",
    "                         filled=True, rounded=True,  \n",
    "                         special_characters=True,impurity=False)\n",
    "graph = pydotplus.graph_from_dot_data(thestring)  \n",
    "Image(graph.create_png())  "
   ]
  },
  {
   "cell_type": "markdown",
   "metadata": {},
   "source": [
    "### Question 4, Fit a random forest to the data from question 3 (20 pts)\n",
    "\n",
    "a) Please use the same test/train split from previous question and feel free to tune the hyper-parameters for Random Forest model using training data. The package from sklearn is here: http://scikit-learn.org/stable/modules/generated/sklearn.ensemble.RandomForestClassifier.html.\n",
    "Then please report your out of sample prediction result and compare this model's performance with 3c). (10 pts)"
   ]
  },
  {
   "cell_type": "code",
   "execution_count": 421,
   "metadata": {},
   "outputs": [
    {
     "name": "stdout",
     "output_type": "stream",
     "text": [
      "{'n_estimators': 8}\n",
      "OS score is: 0.6666666666666666\n"
     ]
    }
   ],
   "source": [
    "from sklearn.ensemble import RandomForestClassifier\n",
    "from sklearn.model_selection import GridSearchCV\n",
    "\n",
    "\n",
    "param_grid = {'n_estimators':range(1,10)}\n",
    "rf = RandomForestClassifier(n_jobs=-1,max_depth=10, random_state=111)\n",
    "gs = GridSearchCV(rf,param_grid=param_grid)\n",
    "rs = gs.fit(X_train,y_train)\n",
    "score=rs.score(X_test,y_test)\n",
    "print (rs.best_params_)\n",
    "print (\"OS score is:\",score)\n",
    "\n"
   ]
  },
  {
   "cell_type": "markdown",
   "metadata": {},
   "source": [
    "b) Write one paragraph comparing the results from those two models (Random Forest vs Decision Tree) in terms of both accuracy and interpretability. (10 pts)"
   ]
  },
  {
   "cell_type": "markdown",
   "metadata": {},
   "source": [
    "Random Forest gives an out of sample accuracy of 0.666 where as decision tree out of Sample accuracy = 0.615. Hence, Random forest has a higher accuracy than decision trees. Decisiom Tree is much easier to interpret and visualize as shown above in Q3(d) where as in random forest it is very difficult to do so."
   ]
  },
  {
   "cell_type": "code",
   "execution_count": null,
   "metadata": {},
   "outputs": [],
   "source": []
  }
 ],
 "metadata": {
  "anaconda-cloud": {},
  "celltoolbar": "Raw Cell Format",
  "kernelspec": {
   "display_name": "Python 3",
   "language": "python",
   "name": "python3"
  },
  "language_info": {
   "codemirror_mode": {
    "name": "ipython",
    "version": 3
   },
   "file_extension": ".py",
   "mimetype": "text/x-python",
   "name": "python",
   "nbconvert_exporter": "python",
   "pygments_lexer": "ipython3",
   "version": "3.8.1"
  }
 },
 "nbformat": 4,
 "nbformat_minor": 4
}
